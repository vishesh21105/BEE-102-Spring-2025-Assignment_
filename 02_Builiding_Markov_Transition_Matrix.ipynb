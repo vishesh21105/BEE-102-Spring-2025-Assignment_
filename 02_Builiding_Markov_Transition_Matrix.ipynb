{
 "cells": [
  {
   "cell_type": "code",
   "execution_count": 5,
   "id": "9b2de56d",
   "metadata": {},
   "outputs": [],
   "source": [
    "import numpy as np\n",
    "import pandas as pd\n",
    "\n",
    "def build_transition_df(seq):\n",
    "    bases = ['a', 'c', 'g', 't']\n",
    "    idx = {b: i for i, b in enumerate(bases)}\n",
    "\n",
    "    # initialize count matrix\n",
    "    count_mat = np.zeros((4, 4), dtype=int)\n",
    "\n",
    "    # tally each dinucleotide here\n",
    "    for first, second in zip(seq, seq[1:]):\n",
    "        if first in idx and second in idx:\n",
    "            count_mat[idx[first], idx[second]] += 1\n",
    "\n",
    "    # converting counts to probabilities\n",
    "    prob_mat = count_mat.astype(float)\n",
    "    row_totals = prob_mat.sum(axis=1, keepdims=True)\n",
    "    with np.errstate(divide='ignore', invalid='ignore'):\n",
    "        prob_mat = np.divide(prob_mat, row_totals, where=row_totals > 0)\n",
    "\n",
    "    # building a dataFrame\n",
    "    transition_df = pd.DataFrame(\n",
    "        prob_mat,\n",
    "        index=bases,\n",
    "        columns=bases\n",
    "    )\n",
    "    return transition_df\n"
   ]
  },
  {
   "cell_type": "markdown",
   "id": "259d0ddd",
   "metadata": {},
   "source": [
    "Dna sequence is random, extracted from a website"
   ]
  },
  {
   "cell_type": "code",
   "execution_count": 6,
   "id": "3cb449cb",
   "metadata": {},
   "outputs": [
    {
     "name": "stdout",
     "output_type": "stream",
     "text": [
      "          a         c         g         t\n",
      "a  0.198444  0.249027  0.249027  0.303502\n",
      "c  0.234615  0.246154  0.315385  0.203846\n",
      "g  0.273408  0.262172  0.247191  0.217228\n",
      "t  0.286275  0.243137  0.215686  0.254902\n"
     ]
    }
   ],
   "source": [
    "# Using\n",
    "dna_sequence = (\n",
    "    \"ttgaatccctgtacgttaagtatatcacgcacgacgagcagcgggcacagtgttgtatgtcgagttgggtcgtagcc\"\n",
    "    \"aatacgtgacgtcctccgtacagaggtctatacgttttttaactagtaggctcatttacttgagggactaatgtc\"\n",
    "    \"caactcatattagcgacttggattgggacgcgtaatggacggagccagcctaaggcgaaccgatggcatcaaata\"\n",
    "    \"cggttgacgtccttatggggaagctcagggtagaagacagttttaacagatccctacggggcgccccttggcatt\"\n",
    "    \"agccagacctcggtgcaacatcagacttgttgggtttcaaataagtaccccgcctgtaaactcccgcgagccatg\"\n",
    "    \"ccgggtggagttactgcgttttgcgcgtgctcggagtataatgcctataaacgtctaccgcaaaatgaggatatgagg\"\n",
    "    \"gatctcaacctcgactctattaagcccagacgacgtgaaacaggggctactctctgatagccccatcgacatatag\"\n",
    "    \"ttcccgattaatattttaatttctatatagatcctcgggaagccgcctcgcgtcggttgcaggcattccaagagt\"\n",
    "    \"atcccgctgtcagagatatgaggtggtgatatcattgacctatacttcgcaacggggatagacgttggcgggctc\"\n",
    "    \"gcaccaagtcgattacatcaccgacccggatcagagcccgcgataacccataatatgcagagtcgactcacattc\"\n",
    "    \"aggagccgtagcatcatcatcggctggcaatcgtacaaccccggggatcctaagccatccgttgctatcgagttat\"\n",
    "    \"ttgcgttcgacaataattgctgcttagtacggaacgtggacccgtagctgggaataatcagagtttccctttacgc\"\n",
    "    \"tcgatcgtgtgttcgacacgcgttgattgatgattactacaggaagagccaccgcgacaatcgcgtggctgcttct\"\n",
    "    \"gcgcgcatcacgaggctaggataagcaaacatctacgcgatttttgcctgcgcgga\"\n",
    ")\n",
    "\n",
    "df_transitions = build_transition_df(dna_sequence)\n",
    "print(df_transitions)"
   ]
  }
 ],
 "metadata": {
  "kernelspec": {
   "display_name": "base",
   "language": "python",
   "name": "python3"
  },
  "language_info": {
   "codemirror_mode": {
    "name": "ipython",
    "version": 3
   },
   "file_extension": ".py",
   "mimetype": "text/x-python",
   "name": "python",
   "nbconvert_exporter": "python",
   "pygments_lexer": "ipython3",
   "version": "3.13.2"
  }
 },
 "nbformat": 4,
 "nbformat_minor": 5
}
