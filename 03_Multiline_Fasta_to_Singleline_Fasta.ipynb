{
 "cells": [
  {
   "cell_type": "code",
   "execution_count": 13,
   "id": "9a4cdec9",
   "metadata": {},
   "outputs": [],
   "source": [
    "def fasta_flatten():\n",
    "    \"\"\"\n",
    "    reads a FASTA file from \"multiline_input.fasta\" and writes it to \"singleline_output.fasta\"\n",
    "    with each record's sequence collapsed onto a single line.\n",
    "    \"\"\"\n",
    "    with open(\"multiline_input.fasta\", 'r') as fin, open(\"singleline_output.fasta\", 'w') as fout:\n",
    "        current_header = None\n",
    "        seq_accumulator = []\n",
    "\n",
    "        for raw_line in fin:\n",
    "            line = raw_line.rstrip()\n",
    "            if not line:\n",
    "                continue\n",
    "\n",
    "            if line[0] == '>':\n",
    "                # Write out the previous record if it exists\n",
    "                if current_header is not None:\n",
    "                    concatenated = ''.join(seq_accumulator)\n",
    "                    fout.write(f\"{current_header}\\n{concatenated}\\n\")\n",
    "                # Start a new record\n",
    "                current_header = line\n",
    "                seq_accumulator = []\n",
    "            else:\n",
    "                seq_accumulator.append(line)\n",
    "\n",
    "        # Flush the final record\n",
    "        if current_header is not None:\n",
    "            concatenated = ''.join(seq_accumulator)\n",
    "            fout.write(f\"{current_header}\\n{concatenated}\\n\")\n",
    "\n"
   ]
  },
  {
   "cell_type": "code",
   "execution_count": 15,
   "id": "3e00d03f",
   "metadata": {},
   "outputs": [
    {
     "name": "stdout",
     "output_type": "stream",
     "text": [
      "Successfully converted 'multiline_input.fasta' to 'singleline_output.fasta'\n"
     ]
    }
   ],
   "source": [
    "def convert_fasta(input_file, output_file):\n",
    "    with open(input_file, 'r') as infile, open(output_file, 'w') as outfile:\n",
    "        seq = ''\n",
    "        header = ''\n",
    "        for line in infile:\n",
    "            line = line.strip()\n",
    "            if line.startswith('>'):\n",
    "                if header:\n",
    "                    outfile.write(header + '\\n' + seq + '\\n')\n",
    "                header = line\n",
    "                seq = ''\n",
    "            else:\n",
    "                seq += line\n",
    "        if header:\n",
    "            outfile.write(header + '\\n' + seq + '\\n')\n",
    "\n",
    "input_fasta_file = \"multiline_input.fasta\"\n",
    "output_fasta_file = \"singleline_output.fasta\"\n",
    "\n",
    "convert_fasta(input_fasta_file, output_fasta_file)\n",
    "\n",
    "print(f\"Successfully converted '{input_fasta_file}' to '{output_fasta_file}'\")"
   ]
  }
 ],
 "metadata": {
  "kernelspec": {
   "display_name": "base",
   "language": "python",
   "name": "python3"
  },
  "language_info": {
   "codemirror_mode": {
    "name": "ipython",
    "version": 3
   },
   "file_extension": ".py",
   "mimetype": "text/x-python",
   "name": "python",
   "nbconvert_exporter": "python",
   "pygments_lexer": "ipython3",
   "version": "3.13.2"
  }
 },
 "nbformat": 4,
 "nbformat_minor": 5
}
